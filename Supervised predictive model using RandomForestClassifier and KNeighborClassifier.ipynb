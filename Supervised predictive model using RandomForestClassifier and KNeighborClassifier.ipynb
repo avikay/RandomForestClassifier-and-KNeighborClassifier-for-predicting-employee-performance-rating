{
 "cells": [
  {
   "cell_type": "code",
   "execution_count": 24,
   "metadata": {},
   "outputs": [],
   "source": [
    "#importing necessary libraries for the project\n",
    "import pandas as pd\n",
    "import numpy as np\n",
    "import os\n",
    "from sklearn.tree import DecisionTreeRegressor\n",
    "from sklearn.ensemble import RandomForestClassifier\n",
    "from sklearn.ensemble import RandomForestRegressor\n",
    "from sklearn.neighbors import KNeighborsClassifier\n",
    "from sklearn.metrics import mean_absolute_error \n",
    "from sklearn.metrics import accuracy_score\n",
    "from sklearn.model_selection import cross_val_score\n",
    "from sklearn.model_selection import train_test_split\n",
    "from sklearn.compose import ColumnTransformer\n",
    "from sklearn.pipeline import Pipeline\n",
    "from sklearn.impute import SimpleImputer\n",
    "from sklearn.preprocessing import OneHotEncoder\n",
    "pd.plotting.register_matplotlib_converters()\n",
    "import matplotlib.pyplot as plt\n",
    "%matplotlib inline\n",
    "import seaborn as sns"
   ]
  },
  {
   "cell_type": "code",
   "execution_count": 2,
   "metadata": {},
   "outputs": [],
   "source": [
    "#importing the dataset\n",
    "data = pd.read_csv('hrdata.csv', header=0, encoding= 'ANSI', sep=',')"
   ]
  },
  {
   "cell_type": "code",
   "execution_count": 3,
   "metadata": {},
   "outputs": [
    {
     "data": {
      "text/html": [
       "<div>\n",
       "<style scoped>\n",
       "    .dataframe tbody tr th:only-of-type {\n",
       "        vertical-align: middle;\n",
       "    }\n",
       "\n",
       "    .dataframe tbody tr th {\n",
       "        vertical-align: top;\n",
       "    }\n",
       "\n",
       "    .dataframe thead th {\n",
       "        text-align: right;\n",
       "    }\n",
       "</style>\n",
       "<table border=\"1\" class=\"dataframe\">\n",
       "  <thead>\n",
       "    <tr style=\"text-align: right;\">\n",
       "      <th></th>\n",
       "      <th>EmployeeCount</th>\n",
       "      <th>EmployeeID</th>\n",
       "      <th>Age</th>\n",
       "      <th>JobLevel</th>\n",
       "      <th>Hourlyrate</th>\n",
       "      <th>Income</th>\n",
       "      <th>Salaryhike</th>\n",
       "      <th>Workex</th>\n",
       "      <th>YearsSinceLastPromotion</th>\n",
       "      <th>TrainingTimesLastYear</th>\n",
       "    </tr>\n",
       "  </thead>\n",
       "  <tbody>\n",
       "    <tr>\n",
       "      <td>count</td>\n",
       "      <td>1470.0</td>\n",
       "      <td>1470.000000</td>\n",
       "      <td>1470.000000</td>\n",
       "      <td>1470.000000</td>\n",
       "      <td>1470.000000</td>\n",
       "      <td>1470.000000</td>\n",
       "      <td>1470.000000</td>\n",
       "      <td>1470.000000</td>\n",
       "      <td>1470.000000</td>\n",
       "      <td>1470.000000</td>\n",
       "    </tr>\n",
       "    <tr>\n",
       "      <td>mean</td>\n",
       "      <td>1.0</td>\n",
       "      <td>1024.865306</td>\n",
       "      <td>36.923810</td>\n",
       "      <td>2.063946</td>\n",
       "      <td>65.891156</td>\n",
       "      <td>6502.931293</td>\n",
       "      <td>15.209524</td>\n",
       "      <td>11.279592</td>\n",
       "      <td>2.187755</td>\n",
       "      <td>2.799320</td>\n",
       "    </tr>\n",
       "    <tr>\n",
       "      <td>std</td>\n",
       "      <td>0.0</td>\n",
       "      <td>602.024335</td>\n",
       "      <td>9.135373</td>\n",
       "      <td>1.106940</td>\n",
       "      <td>20.329428</td>\n",
       "      <td>4707.956783</td>\n",
       "      <td>3.659938</td>\n",
       "      <td>7.780782</td>\n",
       "      <td>3.222430</td>\n",
       "      <td>1.289271</td>\n",
       "    </tr>\n",
       "    <tr>\n",
       "      <td>min</td>\n",
       "      <td>1.0</td>\n",
       "      <td>1.000000</td>\n",
       "      <td>18.000000</td>\n",
       "      <td>1.000000</td>\n",
       "      <td>30.000000</td>\n",
       "      <td>1009.000000</td>\n",
       "      <td>11.000000</td>\n",
       "      <td>0.000000</td>\n",
       "      <td>0.000000</td>\n",
       "      <td>0.000000</td>\n",
       "    </tr>\n",
       "    <tr>\n",
       "      <td>25%</td>\n",
       "      <td>1.0</td>\n",
       "      <td>491.250000</td>\n",
       "      <td>30.000000</td>\n",
       "      <td>1.000000</td>\n",
       "      <td>48.000000</td>\n",
       "      <td>2911.000000</td>\n",
       "      <td>12.000000</td>\n",
       "      <td>6.000000</td>\n",
       "      <td>0.000000</td>\n",
       "      <td>2.000000</td>\n",
       "    </tr>\n",
       "    <tr>\n",
       "      <td>50%</td>\n",
       "      <td>1.0</td>\n",
       "      <td>1020.500000</td>\n",
       "      <td>36.000000</td>\n",
       "      <td>2.000000</td>\n",
       "      <td>66.000000</td>\n",
       "      <td>4919.000000</td>\n",
       "      <td>14.000000</td>\n",
       "      <td>10.000000</td>\n",
       "      <td>1.000000</td>\n",
       "      <td>3.000000</td>\n",
       "    </tr>\n",
       "    <tr>\n",
       "      <td>75%</td>\n",
       "      <td>1.0</td>\n",
       "      <td>1555.750000</td>\n",
       "      <td>43.000000</td>\n",
       "      <td>3.000000</td>\n",
       "      <td>83.750000</td>\n",
       "      <td>8379.000000</td>\n",
       "      <td>18.000000</td>\n",
       "      <td>15.000000</td>\n",
       "      <td>3.000000</td>\n",
       "      <td>3.000000</td>\n",
       "    </tr>\n",
       "    <tr>\n",
       "      <td>max</td>\n",
       "      <td>1.0</td>\n",
       "      <td>2068.000000</td>\n",
       "      <td>60.000000</td>\n",
       "      <td>5.000000</td>\n",
       "      <td>100.000000</td>\n",
       "      <td>19999.000000</td>\n",
       "      <td>25.000000</td>\n",
       "      <td>40.000000</td>\n",
       "      <td>15.000000</td>\n",
       "      <td>6.000000</td>\n",
       "    </tr>\n",
       "  </tbody>\n",
       "</table>\n",
       "</div>"
      ],
      "text/plain": [
       "       EmployeeCount   EmployeeID          Age     JobLevel   Hourlyrate  \\\n",
       "count         1470.0  1470.000000  1470.000000  1470.000000  1470.000000   \n",
       "mean             1.0  1024.865306    36.923810     2.063946    65.891156   \n",
       "std              0.0   602.024335     9.135373     1.106940    20.329428   \n",
       "min              1.0     1.000000    18.000000     1.000000    30.000000   \n",
       "25%              1.0   491.250000    30.000000     1.000000    48.000000   \n",
       "50%              1.0  1020.500000    36.000000     2.000000    66.000000   \n",
       "75%              1.0  1555.750000    43.000000     3.000000    83.750000   \n",
       "max              1.0  2068.000000    60.000000     5.000000   100.000000   \n",
       "\n",
       "             Income   Salaryhike       Workex  YearsSinceLastPromotion  \\\n",
       "count   1470.000000  1470.000000  1470.000000              1470.000000   \n",
       "mean    6502.931293    15.209524    11.279592                 2.187755   \n",
       "std     4707.956783     3.659938     7.780782                 3.222430   \n",
       "min     1009.000000    11.000000     0.000000                 0.000000   \n",
       "25%     2911.000000    12.000000     6.000000                 0.000000   \n",
       "50%     4919.000000    14.000000    10.000000                 1.000000   \n",
       "75%     8379.000000    18.000000    15.000000                 3.000000   \n",
       "max    19999.000000    25.000000    40.000000                15.000000   \n",
       "\n",
       "       TrainingTimesLastYear  \n",
       "count            1470.000000  \n",
       "mean                2.799320  \n",
       "std                 1.289271  \n",
       "min                 0.000000  \n",
       "25%                 2.000000  \n",
       "50%                 3.000000  \n",
       "75%                 3.000000  \n",
       "max                 6.000000  "
      ]
     },
     "execution_count": 3,
     "metadata": {},
     "output_type": "execute_result"
    }
   ],
   "source": [
    "data.describe()"
   ]
  },
  {
   "cell_type": "code",
   "execution_count": 4,
   "metadata": {},
   "outputs": [
    {
     "data": {
      "text/html": [
       "<div>\n",
       "<style scoped>\n",
       "    .dataframe tbody tr th:only-of-type {\n",
       "        vertical-align: middle;\n",
       "    }\n",
       "\n",
       "    .dataframe tbody tr th {\n",
       "        vertical-align: top;\n",
       "    }\n",
       "\n",
       "    .dataframe thead th {\n",
       "        text-align: right;\n",
       "    }\n",
       "</style>\n",
       "<table border=\"1\" class=\"dataframe\">\n",
       "  <thead>\n",
       "    <tr style=\"text-align: right;\">\n",
       "      <th></th>\n",
       "      <th>EmployeeCount</th>\n",
       "      <th>EmployeeID</th>\n",
       "      <th>Department</th>\n",
       "      <th>JobRole</th>\n",
       "      <th>Attrition</th>\n",
       "      <th>Gender</th>\n",
       "      <th>Age</th>\n",
       "      <th>MaritalStatus</th>\n",
       "      <th>Education</th>\n",
       "      <th>EducationField</th>\n",
       "      <th>...</th>\n",
       "      <th>Hourlyrate</th>\n",
       "      <th>Income</th>\n",
       "      <th>Salaryhike</th>\n",
       "      <th>OverTime</th>\n",
       "      <th>Workex</th>\n",
       "      <th>YearsSinceLastPromotion</th>\n",
       "      <th>EmpSatisfaction</th>\n",
       "      <th>TrainingTimesLastYear</th>\n",
       "      <th>WorkLifeBalance</th>\n",
       "      <th>Performance_Rating</th>\n",
       "    </tr>\n",
       "  </thead>\n",
       "  <tbody>\n",
       "    <tr>\n",
       "      <td>0</td>\n",
       "      <td>1</td>\n",
       "      <td>1</td>\n",
       "      <td>Sales</td>\n",
       "      <td>Sales Executive</td>\n",
       "      <td>Yes</td>\n",
       "      <td>Female</td>\n",
       "      <td>41</td>\n",
       "      <td>Single</td>\n",
       "      <td>College</td>\n",
       "      <td>Life Sciences</td>\n",
       "      <td>...</td>\n",
       "      <td>94</td>\n",
       "      <td>5993</td>\n",
       "      <td>11</td>\n",
       "      <td>Yes</td>\n",
       "      <td>8</td>\n",
       "      <td>0</td>\n",
       "      <td>Medium</td>\n",
       "      <td>0</td>\n",
       "      <td>Bad</td>\n",
       "      <td>Excellent</td>\n",
       "    </tr>\n",
       "    <tr>\n",
       "      <td>1</td>\n",
       "      <td>1</td>\n",
       "      <td>2</td>\n",
       "      <td>Research &amp; Development</td>\n",
       "      <td>Research Scientist</td>\n",
       "      <td>No</td>\n",
       "      <td>Male</td>\n",
       "      <td>49</td>\n",
       "      <td>Married</td>\n",
       "      <td>Below College</td>\n",
       "      <td>Life Sciences</td>\n",
       "      <td>...</td>\n",
       "      <td>61</td>\n",
       "      <td>5130</td>\n",
       "      <td>23</td>\n",
       "      <td>No</td>\n",
       "      <td>10</td>\n",
       "      <td>1</td>\n",
       "      <td>High</td>\n",
       "      <td>3</td>\n",
       "      <td>Better</td>\n",
       "      <td>Outstanding</td>\n",
       "    </tr>\n",
       "    <tr>\n",
       "      <td>2</td>\n",
       "      <td>1</td>\n",
       "      <td>4</td>\n",
       "      <td>Research &amp; Development</td>\n",
       "      <td>Laboratory Technician</td>\n",
       "      <td>Yes</td>\n",
       "      <td>Male</td>\n",
       "      <td>37</td>\n",
       "      <td>Single</td>\n",
       "      <td>College</td>\n",
       "      <td>Other</td>\n",
       "      <td>...</td>\n",
       "      <td>92</td>\n",
       "      <td>2090</td>\n",
       "      <td>15</td>\n",
       "      <td>Yes</td>\n",
       "      <td>7</td>\n",
       "      <td>0</td>\n",
       "      <td>Very High</td>\n",
       "      <td>3</td>\n",
       "      <td>Better</td>\n",
       "      <td>Excellent</td>\n",
       "    </tr>\n",
       "    <tr>\n",
       "      <td>3</td>\n",
       "      <td>1</td>\n",
       "      <td>5</td>\n",
       "      <td>Research &amp; Development</td>\n",
       "      <td>Research Scientist</td>\n",
       "      <td>No</td>\n",
       "      <td>Female</td>\n",
       "      <td>33</td>\n",
       "      <td>Married</td>\n",
       "      <td>Master</td>\n",
       "      <td>Life Sciences</td>\n",
       "      <td>...</td>\n",
       "      <td>56</td>\n",
       "      <td>2909</td>\n",
       "      <td>11</td>\n",
       "      <td>Yes</td>\n",
       "      <td>8</td>\n",
       "      <td>3</td>\n",
       "      <td>Very High</td>\n",
       "      <td>3</td>\n",
       "      <td>Better</td>\n",
       "      <td>Excellent</td>\n",
       "    </tr>\n",
       "    <tr>\n",
       "      <td>4</td>\n",
       "      <td>1</td>\n",
       "      <td>7</td>\n",
       "      <td>Research &amp; Development</td>\n",
       "      <td>Laboratory Technician</td>\n",
       "      <td>No</td>\n",
       "      <td>Male</td>\n",
       "      <td>27</td>\n",
       "      <td>Married</td>\n",
       "      <td>Below College</td>\n",
       "      <td>Medical</td>\n",
       "      <td>...</td>\n",
       "      <td>40</td>\n",
       "      <td>3468</td>\n",
       "      <td>12</td>\n",
       "      <td>No</td>\n",
       "      <td>6</td>\n",
       "      <td>2</td>\n",
       "      <td>Low</td>\n",
       "      <td>3</td>\n",
       "      <td>Better</td>\n",
       "      <td>Excellent</td>\n",
       "    </tr>\n",
       "    <tr>\n",
       "      <td>...</td>\n",
       "      <td>...</td>\n",
       "      <td>...</td>\n",
       "      <td>...</td>\n",
       "      <td>...</td>\n",
       "      <td>...</td>\n",
       "      <td>...</td>\n",
       "      <td>...</td>\n",
       "      <td>...</td>\n",
       "      <td>...</td>\n",
       "      <td>...</td>\n",
       "      <td>...</td>\n",
       "      <td>...</td>\n",
       "      <td>...</td>\n",
       "      <td>...</td>\n",
       "      <td>...</td>\n",
       "      <td>...</td>\n",
       "      <td>...</td>\n",
       "      <td>...</td>\n",
       "      <td>...</td>\n",
       "      <td>...</td>\n",
       "      <td>...</td>\n",
       "    </tr>\n",
       "    <tr>\n",
       "      <td>1465</td>\n",
       "      <td>1</td>\n",
       "      <td>2061</td>\n",
       "      <td>Research &amp; Development</td>\n",
       "      <td>Laboratory Technician</td>\n",
       "      <td>No</td>\n",
       "      <td>Male</td>\n",
       "      <td>36</td>\n",
       "      <td>Married</td>\n",
       "      <td>College</td>\n",
       "      <td>Medical</td>\n",
       "      <td>...</td>\n",
       "      <td>41</td>\n",
       "      <td>2571</td>\n",
       "      <td>17</td>\n",
       "      <td>No</td>\n",
       "      <td>17</td>\n",
       "      <td>0</td>\n",
       "      <td>High</td>\n",
       "      <td>3</td>\n",
       "      <td>Better</td>\n",
       "      <td>Excellent</td>\n",
       "    </tr>\n",
       "    <tr>\n",
       "      <td>1466</td>\n",
       "      <td>1</td>\n",
       "      <td>2062</td>\n",
       "      <td>Research &amp; Development</td>\n",
       "      <td>Healthcare Representative</td>\n",
       "      <td>No</td>\n",
       "      <td>Male</td>\n",
       "      <td>39</td>\n",
       "      <td>Married</td>\n",
       "      <td>Below College</td>\n",
       "      <td>Medical</td>\n",
       "      <td>...</td>\n",
       "      <td>42</td>\n",
       "      <td>9991</td>\n",
       "      <td>15</td>\n",
       "      <td>No</td>\n",
       "      <td>9</td>\n",
       "      <td>1</td>\n",
       "      <td>Very High</td>\n",
       "      <td>5</td>\n",
       "      <td>Better</td>\n",
       "      <td>Excellent</td>\n",
       "    </tr>\n",
       "    <tr>\n",
       "      <td>1467</td>\n",
       "      <td>1</td>\n",
       "      <td>2064</td>\n",
       "      <td>Research &amp; Development</td>\n",
       "      <td>Manufacturing Director</td>\n",
       "      <td>No</td>\n",
       "      <td>Male</td>\n",
       "      <td>27</td>\n",
       "      <td>Married</td>\n",
       "      <td>Bachelor</td>\n",
       "      <td>Life Sciences</td>\n",
       "      <td>...</td>\n",
       "      <td>87</td>\n",
       "      <td>6142</td>\n",
       "      <td>20</td>\n",
       "      <td>Yes</td>\n",
       "      <td>6</td>\n",
       "      <td>0</td>\n",
       "      <td>Medium</td>\n",
       "      <td>0</td>\n",
       "      <td>Better</td>\n",
       "      <td>Outstanding</td>\n",
       "    </tr>\n",
       "    <tr>\n",
       "      <td>1468</td>\n",
       "      <td>1</td>\n",
       "      <td>2065</td>\n",
       "      <td>Sales</td>\n",
       "      <td>Sales Executive</td>\n",
       "      <td>No</td>\n",
       "      <td>Male</td>\n",
       "      <td>49</td>\n",
       "      <td>Married</td>\n",
       "      <td>Bachelor</td>\n",
       "      <td>Medical</td>\n",
       "      <td>...</td>\n",
       "      <td>63</td>\n",
       "      <td>5390</td>\n",
       "      <td>14</td>\n",
       "      <td>No</td>\n",
       "      <td>17</td>\n",
       "      <td>0</td>\n",
       "      <td>Very High</td>\n",
       "      <td>3</td>\n",
       "      <td>Good</td>\n",
       "      <td>Excellent</td>\n",
       "    </tr>\n",
       "    <tr>\n",
       "      <td>1469</td>\n",
       "      <td>1</td>\n",
       "      <td>2068</td>\n",
       "      <td>Research &amp; Development</td>\n",
       "      <td>Laboratory Technician</td>\n",
       "      <td>No</td>\n",
       "      <td>Male</td>\n",
       "      <td>34</td>\n",
       "      <td>Married</td>\n",
       "      <td>Bachelor</td>\n",
       "      <td>Medical</td>\n",
       "      <td>...</td>\n",
       "      <td>82</td>\n",
       "      <td>4404</td>\n",
       "      <td>12</td>\n",
       "      <td>No</td>\n",
       "      <td>6</td>\n",
       "      <td>1</td>\n",
       "      <td>Medium</td>\n",
       "      <td>3</td>\n",
       "      <td>Best</td>\n",
       "      <td>Excellent</td>\n",
       "    </tr>\n",
       "  </tbody>\n",
       "</table>\n",
       "<p>1470 rows × 24 columns</p>\n",
       "</div>"
      ],
      "text/plain": [
       "      EmployeeCount  EmployeeID              Department  \\\n",
       "0                 1           1                   Sales   \n",
       "1                 1           2  Research & Development   \n",
       "2                 1           4  Research & Development   \n",
       "3                 1           5  Research & Development   \n",
       "4                 1           7  Research & Development   \n",
       "...             ...         ...                     ...   \n",
       "1465              1        2061  Research & Development   \n",
       "1466              1        2062  Research & Development   \n",
       "1467              1        2064  Research & Development   \n",
       "1468              1        2065                   Sales   \n",
       "1469              1        2068  Research & Development   \n",
       "\n",
       "                        JobRole Attrition  Gender  Age MaritalStatus  \\\n",
       "0               Sales Executive       Yes  Female   41        Single   \n",
       "1            Research Scientist        No    Male   49       Married   \n",
       "2         Laboratory Technician       Yes    Male   37        Single   \n",
       "3            Research Scientist        No  Female   33       Married   \n",
       "4         Laboratory Technician        No    Male   27       Married   \n",
       "...                         ...       ...     ...  ...           ...   \n",
       "1465      Laboratory Technician        No    Male   36       Married   \n",
       "1466  Healthcare Representative        No    Male   39       Married   \n",
       "1467     Manufacturing Director        No    Male   27       Married   \n",
       "1468            Sales Executive        No    Male   49       Married   \n",
       "1469      Laboratory Technician        No    Male   34       Married   \n",
       "\n",
       "          Education EducationField  ... Hourlyrate Income  Salaryhike  \\\n",
       "0           College  Life Sciences  ...         94   5993          11   \n",
       "1     Below College  Life Sciences  ...         61   5130          23   \n",
       "2           College          Other  ...         92   2090          15   \n",
       "3            Master  Life Sciences  ...         56   2909          11   \n",
       "4     Below College        Medical  ...         40   3468          12   \n",
       "...             ...            ...  ...        ...    ...         ...   \n",
       "1465        College        Medical  ...         41   2571          17   \n",
       "1466  Below College        Medical  ...         42   9991          15   \n",
       "1467       Bachelor  Life Sciences  ...         87   6142          20   \n",
       "1468       Bachelor        Medical  ...         63   5390          14   \n",
       "1469       Bachelor        Medical  ...         82   4404          12   \n",
       "\n",
       "     OverTime  Workex  YearsSinceLastPromotion  EmpSatisfaction  \\\n",
       "0         Yes       8                        0           Medium   \n",
       "1          No      10                        1             High   \n",
       "2         Yes       7                        0        Very High   \n",
       "3         Yes       8                        3        Very High   \n",
       "4          No       6                        2              Low   \n",
       "...       ...     ...                      ...              ...   \n",
       "1465       No      17                        0             High   \n",
       "1466       No       9                        1        Very High   \n",
       "1467      Yes       6                        0           Medium   \n",
       "1468       No      17                        0        Very High   \n",
       "1469       No       6                        1           Medium   \n",
       "\n",
       "     TrainingTimesLastYear  WorkLifeBalance  Performance_Rating  \n",
       "0                        0              Bad           Excellent  \n",
       "1                        3           Better         Outstanding  \n",
       "2                        3           Better           Excellent  \n",
       "3                        3           Better           Excellent  \n",
       "4                        3           Better           Excellent  \n",
       "...                    ...              ...                 ...  \n",
       "1465                     3           Better           Excellent  \n",
       "1466                     5           Better           Excellent  \n",
       "1467                     0           Better         Outstanding  \n",
       "1468                     3             Good           Excellent  \n",
       "1469                     3             Best           Excellent  \n",
       "\n",
       "[1470 rows x 24 columns]"
      ]
     },
     "execution_count": 4,
     "metadata": {},
     "output_type": "execute_result"
    }
   ],
   "source": [
    "data"
   ]
  },
  {
   "cell_type": "code",
   "execution_count": 5,
   "metadata": {},
   "outputs": [],
   "source": [
    "#specifying the target variable\n",
    "y = data.Performance_Rating"
   ]
  },
  {
   "cell_type": "code",
   "execution_count": 6,
   "metadata": {},
   "outputs": [],
   "source": [
    "#Create X\n",
    "features = ['Department','JobRole','Attrition','Gender','Age','MaritalStatus','Education','EducationField','Hourlyrate','Income','Salaryhike','OverTime','YearsSinceLastPromotion','EmpSatisfaction','TrainingTimesLastYear','WorkLifeBalance']\n",
    "X = data[features]"
   ]
  },
  {
   "cell_type": "code",
   "execution_count": 7,
   "metadata": {},
   "outputs": [],
   "source": [
    "#spliting dataset for training and testing\n",
    "train_X, val_X, train_y, val_y = train_test_split(X,y, random_state = 0)"
   ]
  },
  {
   "cell_type": "code",
   "execution_count": 8,
   "metadata": {},
   "outputs": [],
   "source": [
    "#taking out numerical and categorical columns\n",
    "categorical_col = [col for col in train_X.columns \n",
    "                  if train_X[col].nunique() < 10 and\n",
    "                  train_X[col].dtype == \"object\"]\n",
    "numerical_col = [col for col in train_X.columns\n",
    "                if train_X[col].dtype in ('int64','float64')]"
   ]
  },
  {
   "cell_type": "code",
   "execution_count": 9,
   "metadata": {},
   "outputs": [],
   "source": [
    "#preprocessing numerical data\n",
    "numerical_transformer = SimpleImputer(strategy = 'constant')"
   ]
  },
  {
   "cell_type": "code",
   "execution_count": 10,
   "metadata": {},
   "outputs": [],
   "source": [
    "#Preprocessing for Categorical data\n",
    "categorical_transformer = Pipeline(steps = [ \n",
    "    ('imputer', SimpleImputer(strategy = 'most_frequent')),\n",
    "     ('Onehot', OneHotEncoder(handle_unknown = 'ignore'))\n",
    "    ])"
   ]
  },
  {
   "cell_type": "code",
   "execution_count": 11,
   "metadata": {},
   "outputs": [],
   "source": [
    "#Bundle for preprocessing of numerical and categorical data\n",
    "preprocessor = ColumnTransformer(transformers = [\n",
    "    ('num', numerical_transformer, numerical_col),\n",
    "    ('cat', categorical_transformer, categorical_col)\n",
    "])"
   ]
  },
  {
   "cell_type": "markdown",
   "metadata": {},
   "source": [
    "### RandomForestClassifier"
   ]
  },
  {
   "cell_type": "code",
   "execution_count": 12,
   "metadata": {},
   "outputs": [],
   "source": [
    "#Model\n",
    "model = RandomForestClassifier(n_estimators = 100, random_state = 0)"
   ]
  },
  {
   "cell_type": "code",
   "execution_count": 13,
   "metadata": {},
   "outputs": [],
   "source": [
    "#Bundle of preprocessor and the model\n",
    "my_pipeline = Pipeline( steps = [\n",
    "    ('preprocessor', preprocessor),\n",
    "    ('model', model)\n",
    "])"
   ]
  },
  {
   "cell_type": "code",
   "execution_count": 14,
   "metadata": {},
   "outputs": [
    {
     "data": {
      "text/plain": [
       "Pipeline(memory=None,\n",
       "         steps=[('preprocessor',\n",
       "                 ColumnTransformer(n_jobs=None, remainder='drop',\n",
       "                                   sparse_threshold=0.3,\n",
       "                                   transformer_weights=None,\n",
       "                                   transformers=[('num',\n",
       "                                                  SimpleImputer(add_indicator=False,\n",
       "                                                                copy=True,\n",
       "                                                                fill_value=None,\n",
       "                                                                missing_values=nan,\n",
       "                                                                strategy='constant',\n",
       "                                                                verbose=0),\n",
       "                                                  ['Age', 'Hourlyrate',\n",
       "                                                   'Income', 'Salaryhike',\n",
       "                                                   'YearsSinceLastPromotion',\n",
       "                                                   'TrainingTimes...\n",
       "                 RandomForestClassifier(bootstrap=True, class_weight=None,\n",
       "                                        criterion='gini', max_depth=None,\n",
       "                                        max_features='auto',\n",
       "                                        max_leaf_nodes=None,\n",
       "                                        min_impurity_decrease=0.0,\n",
       "                                        min_impurity_split=None,\n",
       "                                        min_samples_leaf=1, min_samples_split=2,\n",
       "                                        min_weight_fraction_leaf=0.0,\n",
       "                                        n_estimators=100, n_jobs=None,\n",
       "                                        oob_score=False, random_state=0,\n",
       "                                        verbose=0, warm_start=False))],\n",
       "         verbose=False)"
      ]
     },
     "execution_count": 14,
     "metadata": {},
     "output_type": "execute_result"
    }
   ],
   "source": [
    "#Fit train_X, train_y to the model\n",
    "my_pipeline.fit(train_X, train_y)"
   ]
  },
  {
   "cell_type": "code",
   "execution_count": 15,
   "metadata": {},
   "outputs": [],
   "source": [
    "#Prediction\n",
    "preds = my_pipeline.predict(val_X)"
   ]
  },
  {
   "cell_type": "code",
   "execution_count": 16,
   "metadata": {},
   "outputs": [
    {
     "name": "stdout",
     "output_type": "stream",
     "text": [
      "Accuracy of the model is: 1.0\n"
     ]
    }
   ],
   "source": [
    "#Evaluation using accuracy metrics from sklearn\n",
    "score = accuracy_score(val_y, preds)\n",
    "print('Accuracy of the model is:', score)"
   ]
  },
  {
   "cell_type": "code",
   "execution_count": 17,
   "metadata": {},
   "outputs": [
    {
     "name": "stdout",
     "output_type": "stream",
     "text": [
      "Cross validation score:1.000000\n"
     ]
    }
   ],
   "source": [
    "#Evaluation using cross validation score\n",
    "cv_scores = cross_val_score(my_pipeline, train_X, train_y,\n",
    "                           cv = 5,\n",
    "                           scoring = 'accuracy')\n",
    "print(\"Cross validation score:%f\" % cv_scores.mean())"
   ]
  },
  {
   "cell_type": "code",
   "execution_count": 31,
   "metadata": {},
   "outputs": [
    {
     "data": {
      "text/plain": [
       "Text(0.5, 1.0, 'Random classifier score on employee performance rating')"
      ]
     },
     "execution_count": 31,
     "metadata": {},
     "output_type": "execute_result"
    },
    {
     "data": {
      "image/png": "[encoded data removed]",
      "text/plain": [
       "<Figure size 1152x432 with 1 Axes>"
      ]
     },
     "metadata": {
      "needs_background": "light"
     },
     "output_type": "display_data"
    }
   ],
   "source": [
    "#Visualizing cv_scores through \n",
    "plt.figure(figsize = (16,6))\n",
    "sns.lineplot(data = cv_scores, label = \"Employee Performance Ratings\")\n",
    "plt.title(\"Random classifier score on employee performance rating\")\n"
   ]
  },
  {
   "cell_type": "markdown",
   "metadata": {},
   "source": [
    "### KNeighborsClassifier"
   ]
  },
  {
   "cell_type": "code",
   "execution_count": 18,
   "metadata": {},
   "outputs": [],
   "source": [
    "#Trying KNeighborsClassifiers for the predictions\n",
    "\n",
    "model2 = KNeighborsClassifier(n_neighbors = 5)"
   ]
  },
  {
   "cell_type": "code",
   "execution_count": 19,
   "metadata": {},
   "outputs": [],
   "source": [
    "#Pipeline for KNN\n",
    "pipeline_knn = Pipeline( steps = [\n",
    "    ('preprocessor', preprocessor),\n",
    "    ('model', model2)\n",
    "])"
   ]
  },
  {
   "cell_type": "code",
   "execution_count": 20,
   "metadata": {},
   "outputs": [
    {
     "data": {
      "text/plain": [
       "Pipeline(memory=None,\n",
       "         steps=[('preprocessor',\n",
       "                 ColumnTransformer(n_jobs=None, remainder='drop',\n",
       "                                   sparse_threshold=0.3,\n",
       "                                   transformer_weights=None,\n",
       "                                   transformers=[('num',\n",
       "                                                  SimpleImputer(add_indicator=False,\n",
       "                                                                copy=True,\n",
       "                                                                fill_value=None,\n",
       "                                                                missing_values=nan,\n",
       "                                                                strategy='constant',\n",
       "                                                                verbose=0),\n",
       "                                                  ['Age', 'Hourlyrate',\n",
       "                                                   'Income', 'Salaryhike',\n",
       "                                                   'YearsSinceLastPromotion',\n",
       "                                                   'TrainingTimes...\n",
       "                                                                                 n_values=None,\n",
       "                                                                                 sparse=True))],\n",
       "                                                           verbose=False),\n",
       "                                                  ['Department', 'JobRole',\n",
       "                                                   'Attrition', 'Gender',\n",
       "                                                   'MaritalStatus', 'Education',\n",
       "                                                   'EducationField', 'OverTime',\n",
       "                                                   'EmpSatisfaction',\n",
       "                                                   'WorkLifeBalance'])],\n",
       "                                   verbose=False)),\n",
       "                ('model',\n",
       "                 KNeighborsClassifier(algorithm='auto', leaf_size=30,\n",
       "                                      metric='minkowski', metric_params=None,\n",
       "                                      n_jobs=None, n_neighbors=5, p=2,\n",
       "                                      weights='uniform'))],\n",
       "         verbose=False)"
      ]
     },
     "execution_count": 20,
     "metadata": {},
     "output_type": "execute_result"
    }
   ],
   "source": [
    "#fit for knn\n",
    "pipeline_knn.fit(train_X, train_y)"
   ]
  },
  {
   "cell_type": "code",
   "execution_count": 21,
   "metadata": {},
   "outputs": [],
   "source": [
    "#predictions for knn\n",
    "preds_knn = pipeline_knn.predict(val_X)"
   ]
  },
  {
   "cell_type": "code",
   "execution_count": 22,
   "metadata": {},
   "outputs": [
    {
     "name": "stdout",
     "output_type": "stream",
     "text": [
      "Accuracy score using knn is: 0.834239\n"
     ]
    }
   ],
   "source": [
    "#Evaluating KNN's accuracy on this dataset\n",
    "score_knn = accuracy_score(val_y, preds_knn)\n",
    "print(\"Accuracy score using knn is: %f\" % score_knn)"
   ]
  },
  {
   "cell_type": "code",
   "execution_count": 32,
   "metadata": {},
   "outputs": [
    {
     "name": "stdout",
     "output_type": "stream",
     "text": [
      "Cross-validation score for KNN:0.841193\n"
     ]
    }
   ],
   "source": [
    "#Cross-validation for KNN\n",
    "cv_scores_knn = cross_val_score(pipeline_knn, train_X, train_y,\n",
    "                               cv = 5,\n",
    "                               scoring = 'accuracy')\n",
    "print(\"Cross-validation score for KNN:%f\"%cv_scores_knn.mean())"
   ]
  },
  {
   "cell_type": "code",
   "execution_count": 33,
   "metadata": {},
   "outputs": [
    {
     "data": {
      "text/plain": [
       "Text(0.5, 1.0, 'KNN score on Employee performance rating')"
      ]
     },
     "execution_count": 33,
     "metadata": {},
     "output_type": "execute_result"
    },
    {
     "data": {
      "image/png": "[encoded data removed]",
      "text/plain": [
       "<Figure size 1152x432 with 1 Axes>"
      ]
     },
     "metadata": {
      "needs_background": "light"
     },
     "output_type": "display_data"
    }
   ],
   "source": [
    "#plotting KNN CV scores on a line plot\n",
    "plt.figure(figsize = (16,6))\n",
    "sns.lineplot(data = cv_scores_knn)\n",
    "plt.title(\"KNN score on Employee performance rating\")"
   ]
  },
  {
   "cell_type": "code",
   "execution_count": null,
   "metadata": {},
   "outputs": [],
   "source": []
  }
 ],
 "metadata": {
  "kernelspec": {
   "display_name": "Python 3",
   "language": "python",
   "name": "python3"
  },
  "language_info": {
   "codemirror_mode": {
    "name": "ipython",
    "version": 3
   },
   "file_extension": ".py",
   "mimetype": "text/x-python",
   "name": "python",
   "nbconvert_exporter": "python",
   "pygments_lexer": "ipython3",
   "version": "3.7.4"
  }
 },
 "nbformat": 4,
 "nbformat_minor": 2
}
